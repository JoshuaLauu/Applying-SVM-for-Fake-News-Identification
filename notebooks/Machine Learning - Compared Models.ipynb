{
 "cells": [
  {
   "cell_type": "markdown",
   "id": "2666ff10",
   "metadata": {},
   "source": [
    "# Import Related Libraries"
   ]
  },
  {
   "cell_type": "code",
   "execution_count": 1,
   "id": "35e1a83d",
   "metadata": {
    "ExecuteTime": {
     "end_time": "2023-05-18T16:43:57.182758Z",
     "start_time": "2023-05-18T16:43:51.948538Z"
    }
   },
   "outputs": [],
   "source": [
    "import pandas as pd\n",
    "import string\n",
    "import spacy\n",
    "import nltk\n",
    "import matplotlib.pyplot as plt\n",
    "import numpy as np\n",
    "from nltk.corpus import stopwords\n",
    "from nltk.tokenize import word_tokenize\n",
    "from nltk.stem import PorterStemmer\n",
    "from nltk import FreqDist\n",
    "from sklearn.feature_extraction.text import TfidfVectorizer\n",
    "from sklearn.model_selection import train_test_split\n",
    "from sklearn.metrics import accuracy_score\n",
    "from sklearn.metrics import confusion_matrix\n",
    "from sklearn.metrics import precision_score\n",
    "from sklearn.metrics import recall_score\n",
    "from sklearn.metrics import f1_score\n",
    "from sklearn.model_selection import GridSearchCV\n",
    "from sklearn.metrics import confusion_matrix\n",
    "from sklearn.metrics import classification_report\n",
    "from sklearn.metrics import roc_curve, auc\n",
    "from sklearn.utils import shuffle\n",
    "from sklearn.naive_bayes import MultinomialNB\n",
    "from sklearn.ensemble import RandomForestClassifier"
   ]
  },
  {
   "cell_type": "markdown",
   "id": "d71e4131",
   "metadata": {},
   "source": [
    "# Data Preprocessing"
   ]
  },
  {
   "cell_type": "code",
   "execution_count": 2,
   "id": "cc56dc57",
   "metadata": {
    "ExecuteTime": {
     "end_time": "2023-05-18T16:43:58.454753Z",
     "start_time": "2023-05-18T16:43:57.184753Z"
    }
   },
   "outputs": [
    {
     "data": {
      "text/html": [
       "<div>\n",
       "<style scoped>\n",
       "    .dataframe tbody tr th:only-of-type {\n",
       "        vertical-align: middle;\n",
       "    }\n",
       "\n",
       "    .dataframe tbody tr th {\n",
       "        vertical-align: top;\n",
       "    }\n",
       "\n",
       "    .dataframe thead th {\n",
       "        text-align: right;\n",
       "    }\n",
       "</style>\n",
       "<table border=\"1\" class=\"dataframe\">\n",
       "  <thead>\n",
       "    <tr style=\"text-align: right;\">\n",
       "      <th></th>\n",
       "      <th>title</th>\n",
       "      <th>text</th>\n",
       "      <th>subject</th>\n",
       "      <th>date</th>\n",
       "      <th>label</th>\n",
       "    </tr>\n",
       "  </thead>\n",
       "  <tbody>\n",
       "    <tr>\n",
       "      <th>0</th>\n",
       "      <td>As U.S. budget fight looms, Republicans flip t...</td>\n",
       "      <td>WASHINGTON (Reuters) - The head of a conservat...</td>\n",
       "      <td>politicsNews</td>\n",
       "      <td>2017/12/31</td>\n",
       "      <td>1</td>\n",
       "    </tr>\n",
       "    <tr>\n",
       "      <th>1</th>\n",
       "      <td>U.S. military to accept transgender recruits o...</td>\n",
       "      <td>WASHINGTON (Reuters) - Transgender people will...</td>\n",
       "      <td>politicsNews</td>\n",
       "      <td>2017/12/29</td>\n",
       "      <td>1</td>\n",
       "    </tr>\n",
       "    <tr>\n",
       "      <th>2</th>\n",
       "      <td>Senior U.S. Republican senator: 'Let Mr. Muell...</td>\n",
       "      <td>WASHINGTON (Reuters) - The special counsel inv...</td>\n",
       "      <td>politicsNews</td>\n",
       "      <td>2017/12/31</td>\n",
       "      <td>1</td>\n",
       "    </tr>\n",
       "    <tr>\n",
       "      <th>3</th>\n",
       "      <td>FBI Russia probe helped by Australian diplomat...</td>\n",
       "      <td>WASHINGTON (Reuters) - Trump campaign adviser ...</td>\n",
       "      <td>politicsNews</td>\n",
       "      <td>2017/12/30</td>\n",
       "      <td>1</td>\n",
       "    </tr>\n",
       "    <tr>\n",
       "      <th>4</th>\n",
       "      <td>Trump wants Postal Service to charge 'much mor...</td>\n",
       "      <td>SEATTLE/WASHINGTON (Reuters) - President Donal...</td>\n",
       "      <td>politicsNews</td>\n",
       "      <td>2017/12/29</td>\n",
       "      <td>1</td>\n",
       "    </tr>\n",
       "  </tbody>\n",
       "</table>\n",
       "</div>"
      ],
      "text/plain": [
       "                                               title  \\\n",
       "0  As U.S. budget fight looms, Republicans flip t...   \n",
       "1  U.S. military to accept transgender recruits o...   \n",
       "2  Senior U.S. Republican senator: 'Let Mr. Muell...   \n",
       "3  FBI Russia probe helped by Australian diplomat...   \n",
       "4  Trump wants Postal Service to charge 'much mor...   \n",
       "\n",
       "                                                text       subject  \\\n",
       "0  WASHINGTON (Reuters) - The head of a conservat...  politicsNews   \n",
       "1  WASHINGTON (Reuters) - Transgender people will...  politicsNews   \n",
       "2  WASHINGTON (Reuters) - The special counsel inv...  politicsNews   \n",
       "3  WASHINGTON (Reuters) - Trump campaign adviser ...  politicsNews   \n",
       "4  SEATTLE/WASHINGTON (Reuters) - President Donal...  politicsNews   \n",
       "\n",
       "         date  label  \n",
       "0  2017/12/31      1  \n",
       "1  2017/12/29      1  \n",
       "2  2017/12/31      1  \n",
       "3  2017/12/30      1  \n",
       "4  2017/12/29      1  "
      ]
     },
     "execution_count": 2,
     "metadata": {},
     "output_type": "execute_result"
    }
   ],
   "source": [
    "#read dataset\n",
    "data = pd.read_csv('Dataset.csv')\n",
    "#pre-view of dataset\n",
    "data.head()"
   ]
  },
  {
   "cell_type": "markdown",
   "id": "06fd2c39",
   "metadata": {},
   "source": [
    "# Data Preprocess"
   ]
  },
  {
   "cell_type": "code",
   "execution_count": 3,
   "id": "44d607ee",
   "metadata": {
    "ExecuteTime": {
     "end_time": "2023-05-18T16:43:58.501031Z",
     "start_time": "2023-05-18T16:43:58.456727Z"
    }
   },
   "outputs": [
    {
     "data": {
      "text/plain": [
       "title      52\n",
       "text       56\n",
       "subject    56\n",
       "date       70\n",
       "label       0\n",
       "dtype: int64"
      ]
     },
     "execution_count": 3,
     "metadata": {},
     "output_type": "execute_result"
    }
   ],
   "source": [
    "#count the variable without data\n",
    "data.isnull().sum()"
   ]
  },
  {
   "cell_type": "code",
   "execution_count": 4,
   "id": "96ab898c",
   "metadata": {
    "ExecuteTime": {
     "end_time": "2023-05-18T16:43:58.878906Z",
     "start_time": "2023-05-18T16:43:58.504043Z"
    }
   },
   "outputs": [],
   "source": [
    "#remove null values\n",
    "data = data.dropna()\n",
    "\n",
    "#remove duplicate values\n",
    "data = data.drop_duplicates()"
   ]
  },
  {
   "cell_type": "code",
   "execution_count": 5,
   "id": "b2ed2ab4",
   "metadata": {
    "ExecuteTime": {
     "end_time": "2023-05-18T16:43:58.894153Z",
     "start_time": "2023-05-18T16:43:58.880889Z"
    }
   },
   "outputs": [],
   "source": [
    "# #randomly chosse 100 data for test, comment out during official runtime\n",
    "# data = data.sample(n=1000, random_state=42)"
   ]
  },
  {
   "cell_type": "code",
   "execution_count": 6,
   "id": "30e0253b",
   "metadata": {
    "ExecuteTime": {
     "end_time": "2023-05-18T16:43:58.909630Z",
     "start_time": "2023-05-18T16:43:58.897141Z"
    }
   },
   "outputs": [
    {
     "data": {
      "text/html": [
       "<div>\n",
       "<style scoped>\n",
       "    .dataframe tbody tr th:only-of-type {\n",
       "        vertical-align: middle;\n",
       "    }\n",
       "\n",
       "    .dataframe tbody tr th {\n",
       "        vertical-align: top;\n",
       "    }\n",
       "\n",
       "    .dataframe thead th {\n",
       "        text-align: right;\n",
       "    }\n",
       "</style>\n",
       "<table border=\"1\" class=\"dataframe\">\n",
       "  <thead>\n",
       "    <tr style=\"text-align: right;\">\n",
       "      <th></th>\n",
       "      <th>title</th>\n",
       "      <th>text</th>\n",
       "      <th>subject</th>\n",
       "      <th>date</th>\n",
       "      <th>label</th>\n",
       "    </tr>\n",
       "  </thead>\n",
       "  <tbody>\n",
       "    <tr>\n",
       "      <th>0</th>\n",
       "      <td>As U.S. budget fight looms, Republicans flip t...</td>\n",
       "      <td>WASHINGTON (Reuters) - The head of a conservat...</td>\n",
       "      <td>politicsNews</td>\n",
       "      <td>2017/12/31</td>\n",
       "      <td>1</td>\n",
       "    </tr>\n",
       "    <tr>\n",
       "      <th>1</th>\n",
       "      <td>U.S. military to accept transgender recruits o...</td>\n",
       "      <td>WASHINGTON (Reuters) - Transgender people will...</td>\n",
       "      <td>politicsNews</td>\n",
       "      <td>2017/12/29</td>\n",
       "      <td>1</td>\n",
       "    </tr>\n",
       "    <tr>\n",
       "      <th>2</th>\n",
       "      <td>Senior U.S. Republican senator: 'Let Mr. Muell...</td>\n",
       "      <td>WASHINGTON (Reuters) - The special counsel inv...</td>\n",
       "      <td>politicsNews</td>\n",
       "      <td>2017/12/31</td>\n",
       "      <td>1</td>\n",
       "    </tr>\n",
       "    <tr>\n",
       "      <th>3</th>\n",
       "      <td>FBI Russia probe helped by Australian diplomat...</td>\n",
       "      <td>WASHINGTON (Reuters) - Trump campaign adviser ...</td>\n",
       "      <td>politicsNews</td>\n",
       "      <td>2017/12/30</td>\n",
       "      <td>1</td>\n",
       "    </tr>\n",
       "    <tr>\n",
       "      <th>4</th>\n",
       "      <td>Trump wants Postal Service to charge 'much mor...</td>\n",
       "      <td>SEATTLE/WASHINGTON (Reuters) - President Donal...</td>\n",
       "      <td>politicsNews</td>\n",
       "      <td>2017/12/29</td>\n",
       "      <td>1</td>\n",
       "    </tr>\n",
       "  </tbody>\n",
       "</table>\n",
       "</div>"
      ],
      "text/plain": [
       "                                               title  \\\n",
       "0  As U.S. budget fight looms, Republicans flip t...   \n",
       "1  U.S. military to accept transgender recruits o...   \n",
       "2  Senior U.S. Republican senator: 'Let Mr. Muell...   \n",
       "3  FBI Russia probe helped by Australian diplomat...   \n",
       "4  Trump wants Postal Service to charge 'much mor...   \n",
       "\n",
       "                                                text       subject  \\\n",
       "0  WASHINGTON (Reuters) - The head of a conservat...  politicsNews   \n",
       "1  WASHINGTON (Reuters) - Transgender people will...  politicsNews   \n",
       "2  WASHINGTON (Reuters) - The special counsel inv...  politicsNews   \n",
       "3  WASHINGTON (Reuters) - Trump campaign adviser ...  politicsNews   \n",
       "4  SEATTLE/WASHINGTON (Reuters) - President Donal...  politicsNews   \n",
       "\n",
       "         date  label  \n",
       "0  2017/12/31      1  \n",
       "1  2017/12/29      1  \n",
       "2  2017/12/31      1  \n",
       "3  2017/12/30      1  \n",
       "4  2017/12/29      1  "
      ]
     },
     "execution_count": 6,
     "metadata": {},
     "output_type": "execute_result"
    }
   ],
   "source": [
    "data.head()"
   ]
  },
  {
   "cell_type": "code",
   "execution_count": 7,
   "id": "3612f958",
   "metadata": {
    "ExecuteTime": {
     "end_time": "2023-05-18T16:44:01.684948Z",
     "start_time": "2023-05-18T16:43:58.913641Z"
    }
   },
   "outputs": [],
   "source": [
    "#remove punctuations from text, title, and subject\n",
    "for col in ['text', 'title', 'subject']:\n",
    "    data[col] = data[col].apply(lambda x: x.translate(str.maketrans('', '', string.punctuation)))"
   ]
  },
  {
   "cell_type": "code",
   "execution_count": 8,
   "id": "4e8454b4",
   "metadata": {
    "ExecuteTime": {
     "end_time": "2023-05-18T16:44:01.701060Z",
     "start_time": "2023-05-18T16:44:01.685933Z"
    }
   },
   "outputs": [],
   "source": [
    "import pickle\n",
    "def save_variable(v,filename):\n",
    "    f=open(filename,'wb')\n",
    "    pickle.dump(v,f)\n",
    "    f.close()\n",
    "    return filename\n",
    "def load_variavle(filename):\n",
    "    f=open(filename,'rb')\n",
    "    r=pickle.load(f)\n",
    "    f.close()\n",
    "    return r"
   ]
  },
  {
   "cell_type": "code",
   "execution_count": 9,
   "id": "d612e23b",
   "metadata": {
    "ExecuteTime": {
     "end_time": "2023-05-18T16:44:01.716299Z",
     "start_time": "2023-05-18T16:44:01.702053Z"
    }
   },
   "outputs": [],
   "source": [
    "stop_words = load_variavle('stop_words.txt')"
   ]
  },
  {
   "cell_type": "code",
   "execution_count": 10,
   "id": "3e17c381",
   "metadata": {
    "ExecuteTime": {
     "end_time": "2023-05-18T16:44:04.915685Z",
     "start_time": "2023-05-18T16:44:01.719020Z"
    }
   },
   "outputs": [],
   "source": [
    "#load stop words from nlkt\n",
    "#if report download fail from nltk, use the file offered above\n",
    "stop_words = set(stopwords.words('english'))\n",
    "\n",
    "#remove stop words\n",
    "for col in ['text', 'title', 'subject']:\n",
    "    data[col] = data[col].apply(lambda x: ' '.join([word for word in x.split() if word not in stop_words]))"
   ]
  },
  {
   "cell_type": "code",
   "execution_count": 11,
   "id": "f57b6477",
   "metadata": {
    "ExecuteTime": {
     "end_time": "2023-05-18T16:44:06.405079Z",
     "start_time": "2023-05-18T16:44:04.917376Z"
    }
   },
   "outputs": [],
   "source": [
    "#separate words in text, title, and subject\n",
    "for col in ['text', 'title', 'subject']:\n",
    "    data[col] = data[col].apply(lambda x: ' '.join([word for word in x.split()]))"
   ]
  },
  {
   "cell_type": "code",
   "execution_count": 12,
   "id": "093f1190",
   "metadata": {
    "ExecuteTime": {
     "end_time": "2023-05-18T16:48:17.883971Z",
     "start_time": "2023-05-18T16:44:06.407105Z"
    }
   },
   "outputs": [],
   "source": [
    "#words stem extraction for text, title, and subject\n",
    "stemmer = PorterStemmer()\n",
    "for col in ['text', 'title', 'subject']:\n",
    "    data[col] = data[col].apply(lambda x: ' '.join([stemmer.stem(word) for word in word_tokenize(x)]))"
   ]
  },
  {
   "cell_type": "code",
   "execution_count": 13,
   "id": "f07683c2",
   "metadata": {
    "ExecuteTime": {
     "end_time": "2023-05-18T16:48:17.962981Z",
     "start_time": "2023-05-18T16:48:17.885640Z"
    }
   },
   "outputs": [],
   "source": [
    "#concatenate 'text', 'title', and 'subject' columns together\n",
    "data['combined'] = data['title'] + ' ' + data['subject'] + ' ' + data['text']"
   ]
  },
  {
   "cell_type": "code",
   "execution_count": 14,
   "id": "7662d581",
   "metadata": {
    "ExecuteTime": {
     "end_time": "2023-05-18T16:48:18.010193Z",
     "start_time": "2023-05-18T16:48:17.963973Z"
    }
   },
   "outputs": [
    {
     "name": "stdout",
     "output_type": "stream",
     "text": [
      "average length of fake news： 1683.8501534265258\n",
      "average length of true news： 1627.9312149356465\n"
     ]
    }
   ],
   "source": [
    "# calculate the average length of true and fake news\n",
    "fake_mean_len = data[data['label'] == 0]['combined'].apply(lambda x: len(x)).mean()\n",
    "real_mean_len = data[data['label'] == 1]['combined'].apply(lambda x: len(x)).mean()\n",
    "\n",
    "print(\"average length of fake news：\", fake_mean_len)\n",
    "print(\"average length of true news：\", real_mean_len)"
   ]
  },
  {
   "cell_type": "code",
   "execution_count": 15,
   "id": "b58d51d7",
   "metadata": {
    "ExecuteTime": {
     "end_time": "2023-05-18T16:48:18.026001Z",
     "start_time": "2023-05-18T16:48:18.011919Z"
    }
   },
   "outputs": [],
   "source": [
    "data = data.reset_index(drop=True)\n",
    "\n",
    "#speatre feature column and label column\n",
    "X = data['combined']\n",
    "y = data['label']"
   ]
  },
  {
   "cell_type": "code",
   "execution_count": 16,
   "id": "2e6da638",
   "metadata": {
    "ExecuteTime": {
     "end_time": "2023-05-18T16:48:26.484806Z",
     "start_time": "2023-05-18T16:48:18.027718Z"
    }
   },
   "outputs": [],
   "source": [
    "#initialize\n",
    "vectorizer = TfidfVectorizer(stop_words='english')\n",
    "#vetorize\n",
    "X = vectorizer.fit_transform(X)"
   ]
  },
  {
   "cell_type": "code",
   "execution_count": 17,
   "id": "ea764478",
   "metadata": {
    "ExecuteTime": {
     "end_time": "2023-05-18T16:48:26.516199Z",
     "start_time": "2023-05-18T16:48:26.485631Z"
    }
   },
   "outputs": [],
   "source": [
    "#split train set and testing set\n",
    "X_train, X_test, y_train, y_test = train_test_split(X, y, test_size=0.2, random_state=42)"
   ]
  },
  {
   "cell_type": "markdown",
   "id": "54dd9eed",
   "metadata": {},
   "source": [
    "# Naive Bayes Part"
   ]
  },
  {
   "cell_type": "code",
   "execution_count": 18,
   "id": "e1cdad9a",
   "metadata": {
    "ExecuteTime": {
     "end_time": "2023-05-18T16:48:27.729280Z",
     "start_time": "2023-05-18T16:48:26.518020Z"
    }
   },
   "outputs": [
    {
     "name": "stdout",
     "output_type": "stream",
     "text": [
      "Best Parameters:  {'alpha': 0.1}\n",
      "Best Score:  0.9511191941801904\n"
     ]
    }
   ],
   "source": [
    "#construct naive bayes model\n",
    "nb_model = MultinomialNB()\n",
    "\n",
    "#set hyperparameters set\n",
    "param_grid = {'alpha': [0.1, 0.5, 1.0, 2.0]}\n",
    "\n",
    "#start grid search\n",
    "grid_search = GridSearchCV(estimator=nb_model, param_grid=param_grid, cv=5)\n",
    "grid_search.fit(X_train, y_train)\n",
    "\n",
    "#out optimal hyperparameter and score\n",
    "print(\"Best Parameters: \", grid_search.best_params_)\n",
    "print(\"Best Score: \", grid_search.best_score_)"
   ]
  },
  {
   "cell_type": "code",
   "execution_count": 19,
   "id": "3912f9a9",
   "metadata": {
    "ExecuteTime": {
     "end_time": "2023-05-18T16:48:27.791186Z",
     "start_time": "2023-05-18T16:48:27.731313Z"
    }
   },
   "outputs": [
    {
     "name": "stdout",
     "output_type": "stream",
     "text": [
      "Accuracy:  95.38891997761611\n"
     ]
    }
   ],
   "source": [
    "#construct naive bayes model\n",
    "nb_model = MultinomialNB(alpha=0.1)\n",
    "\n",
    "#fit model\n",
    "nb_model.fit(X_train, y_train)\n",
    "y_pred = nb_model.predict(X_test)\n",
    "#evaluate model on testing set\n",
    "accuracy = nb_model.score(X_test, y_test)\n",
    "print('Accuracy: ', accuracy * 100)"
   ]
  },
  {
   "cell_type": "code",
   "execution_count": 20,
   "id": "f986002e",
   "metadata": {
    "ExecuteTime": {
     "end_time": "2023-05-18T16:48:27.822602Z",
     "start_time": "2023-05-18T16:48:27.793145Z"
    }
   },
   "outputs": [
    {
     "name": "stdout",
     "output_type": "stream",
     "text": [
      "[[4418  240]\n",
      " [ 172 4105]]\n",
      "precision:  0.9447640966628308\n",
      "recall:  0.9597848959551087\n",
      "F-measure:  0.9522152632799814\n"
     ]
    }
   ],
   "source": [
    "#confusion matrix\n",
    "cm = confusion_matrix(y_test, y_pred, labels=None, sample_weight=None)\n",
    "print(cm)\n",
    "\n",
    "#precision\n",
    "precision = precision_score(y_test, y_pred)\n",
    "print(\"precision: \", precision)\n",
    "\n",
    "#recall\n",
    "recall = recall_score(y_test, y_pred)\n",
    "print(\"recall: \", recall)\n",
    "\n",
    "#F-measure\n",
    "f1 = f1_score(y_test, y_pred)\n",
    "print(\"F-measure: \", f1)"
   ]
  },
  {
   "cell_type": "code",
   "execution_count": 21,
   "id": "105febf1",
   "metadata": {
    "ExecuteTime": {
     "end_time": "2023-05-18T16:48:30.188808Z",
     "start_time": "2023-05-18T16:48:27.824596Z"
    }
   },
   "outputs": [
    {
     "data": {
      "image/png": "[encoded data removed]",
      "text/plain": [
       "<Figure size 576x576 with 2 Axes>"
      ]
     },
     "metadata": {
      "needs_background": "light"
     },
     "output_type": "display_data"
    }
   ],
   "source": [
    "#draw confusion matrix\n",
    "fig, ax = plt.subplots(figsize=(8, 8))\n",
    "im = ax.imshow(cm, cmap='Blues')\n",
    "\n",
    "#add labels\n",
    "classes = np.unique(y_test)\n",
    "tick_marks = np.arange(len(classes))\n",
    "ax.set_xticks(tick_marks)\n",
    "ax.set_xticklabels(classes, rotation=45)\n",
    "ax.set_yticks(tick_marks)\n",
    "ax.set_yticklabels(classes)\n",
    "ax.set_ylabel('True label')\n",
    "ax.set_xlabel('Predicted label')\n",
    "plt.xticks(rotation=0)\n",
    "plt.title(\"Confusion Matrix of Naive Bayes\")\n",
    "\n",
    "#add numbers\n",
    "thresh = cm.max() / 2.\n",
    "for i in range(cm.shape[0]):\n",
    "    for j in range(cm.shape[1]):\n",
    "        ax.text(j, i, format(cm[i, j], 'd'),\n",
    "                ha=\"center\", va=\"center\",\n",
    "                color=\"white\" if cm[i, j] > thresh else \"black\")\n",
    "\n",
    "#add color bar\n",
    "plt.colorbar(im)\n",
    "plt.grid(False)\n",
    "plt.savefig('confusion_matrix_nb.png',dpi=800)\n",
    "plt.show()"
   ]
  },
  {
   "cell_type": "code",
   "execution_count": 22,
   "id": "f6de7217",
   "metadata": {
    "ExecuteTime": {
     "end_time": "2023-05-18T16:48:30.220098Z",
     "start_time": "2023-05-18T16:48:30.189713Z"
    }
   },
   "outputs": [
    {
     "name": "stdout",
     "output_type": "stream",
     "text": [
      "              precision    recall  f1-score   support\n",
      "\n",
      "           0       0.96      0.95      0.96      4658\n",
      "           1       0.94      0.96      0.95      4277\n",
      "\n",
      "    accuracy                           0.95      8935\n",
      "   macro avg       0.95      0.95      0.95      8935\n",
      "weighted avg       0.95      0.95      0.95      8935\n",
      "\n"
     ]
    }
   ],
   "source": [
    "#out report of naive bayes\n",
    "print(classification_report(y_test, y_pred))"
   ]
  },
  {
   "cell_type": "code",
   "execution_count": 23,
   "id": "0562ff3d",
   "metadata": {
    "ExecuteTime": {
     "end_time": "2023-05-18T16:48:32.456364Z",
     "start_time": "2023-05-18T16:48:30.221878Z"
    },
    "scrolled": true
   },
   "outputs": [
    {
     "data": {
      "image/png": "[encoded data removed]",
      "text/plain": [
       "<Figure size 576x576 with 1 Axes>"
      ]
     },
     "metadata": {
      "needs_background": "light"
     },
     "output_type": "display_data"
    },
    {
     "name": "stdout",
     "output_type": "stream",
     "text": [
      "AUC: 0.9892445969750631\n"
     ]
    }
   ],
   "source": [
    "# Get prediction probabilities\n",
    "y_score = nb_model.predict_proba(X_test)[:, 1]\n",
    "\n",
    "# Calculate fpr, tpr, and thresholds\n",
    "fpr, tpr, thresholds = roc_curve(y_test, y_score)\n",
    "\n",
    "# Calculate AUC\n",
    "roc_auc = auc(fpr, tpr)\n",
    "\n",
    "# Plot ROC curve\n",
    "plt.figure(figsize=(8, 8))\n",
    "plt.plot(fpr, tpr, color='darkorange', lw=2, label='ROC curve (area = %0.2f)' % roc_auc)\n",
    "plt.plot([0, 1], [0, 1], color='navy', lw=2, linestyle='--')\n",
    "plt.fill_between(fpr, tpr, color='gray', alpha=0.2)\n",
    "plt.xlim([0.0, 1.0])\n",
    "plt.ylim([0.0, 1.05])\n",
    "plt.xlabel('False Positive Rate')\n",
    "plt.ylabel('True Positive Rate')\n",
    "plt.title('ROC of Naive Bayes')\n",
    "plt.legend(loc=\"lower right\")\n",
    "\n",
    "# Add axes\n",
    "plt.axhline(0, color='black', lw=1)\n",
    "plt.axvline(0, color='black', lw=1)\n",
    "\n",
    "# Set background and contours\n",
    "plt.gca().set_facecolor('white')\n",
    "plt.gca().spines['bottom'].set_color('black')\n",
    "plt.gca().spines['left'].set_color('black')\n",
    "plt.gca().spines['top'].set_visible(False)\n",
    "plt.gca().spines['right'].set_visible(False)\n",
    "\n",
    "# Save the plot\n",
    "plt.savefig('ROC_nb.png', dpi=800)\n",
    "\n",
    "# Show the plot\n",
    "plt.show()\n",
    "\n",
    "# Output AUC\n",
    "print(\"AUC:\", roc_auc)\n"
   ]
  },
  {
   "cell_type": "markdown",
   "id": "2abb538b",
   "metadata": {},
   "source": [
    "# Random Forest Part"
   ]
  },
  {
   "cell_type": "code",
   "execution_count": 24,
   "id": "0feb9537",
   "metadata": {
    "ExecuteTime": {
     "end_time": "2023-05-18T16:52:04.059143Z",
     "start_time": "2023-05-18T16:48:32.457801Z"
    }
   },
   "outputs": [
    {
     "name": "stdout",
     "output_type": "stream",
     "text": [
      "Best Parameters:  {'max_depth': None, 'min_samples_split': 2, 'n_estimators': 300}\n",
      "Best Score:  0.9810000000000001\n"
     ]
    }
   ],
   "source": [
    "#Scramble training set\n",
    "X_train_shuffled, y_train_shuffled = shuffle(X_train, y_train, random_state=42)\n",
    "\n",
    "#Choose first 1000 samples to process tuning\n",
    "X_train_subset = X_train_shuffled[:1000]\n",
    "y_train_subset = y_train_shuffled[:1000]\n",
    "\n",
    "#construct random forest model\n",
    "rf = RandomForestClassifier(random_state = 42)\n",
    "\n",
    "#define hyperparameters set\n",
    "param_grid = {\n",
    "    'n_estimators': [100, 200, 300],\n",
    "    'max_depth': [None, 5, 10],\n",
    "    'min_samples_split': [2, 5, 10]\n",
    "}\n",
    "\n",
    "#start grid search\n",
    "grid_search = GridSearchCV(estimator=rf, param_grid=param_grid, cv=5)\n",
    "grid_search.fit(X_train_subset, y_train_subset)\n",
    "\n",
    "#out optimal hyperparameter and score\n",
    "print(\"Best Parameters: \", grid_search.best_params_)\n",
    "print(\"Best Score: \", grid_search.best_score_)"
   ]
  },
  {
   "cell_type": "code",
   "execution_count": 25,
   "id": "bb875bd6",
   "metadata": {
    "ExecuteTime": {
     "end_time": "2023-05-18T16:57:13.336464Z",
     "start_time": "2023-05-18T16:52:04.060151Z"
    }
   },
   "outputs": [
    {
     "name": "stdout",
     "output_type": "stream",
     "text": [
      "Accuracy:  99.29490766648014\n"
     ]
    }
   ],
   "source": [
    "#construct random forest model\n",
    "rf_model = RandomForestClassifier(random_state = 42,max_depth = None, min_samples_split = 2, n_estimators = 300)\n",
    "#fit model\n",
    "rf_model.fit(X_train,y_train)\n",
    "#test on testing set\n",
    "y_pred = rf_model.predict(X_test)\n",
    "#evaluate model on testing set\n",
    "accuracy = rf_model.score(X_test, y_test)\n",
    "print('Accuracy: ', accuracy * 100)"
   ]
  },
  {
   "cell_type": "code",
   "execution_count": 26,
   "id": "f8329984",
   "metadata": {
    "ExecuteTime": {
     "end_time": "2023-05-18T16:57:13.367233Z",
     "start_time": "2023-05-18T16:57:13.338426Z"
    }
   },
   "outputs": [
    {
     "name": "stdout",
     "output_type": "stream",
     "text": [
      "[[4626   32]\n",
      " [  31 4246]]\n",
      "precision:  0.9925198690977092\n",
      "recall:  0.9927519289221417\n",
      "F-measure:  0.9926358854471069\n"
     ]
    }
   ],
   "source": [
    "#confusion matrix\n",
    "cm = confusion_matrix(y_test, y_pred, labels=None, sample_weight=None)\n",
    "print(cm)\n",
    "\n",
    "#precision\n",
    "precision = precision_score(y_test, y_pred)\n",
    "print(\"precision: \", precision)\n",
    "\n",
    "#recall\n",
    "recall = recall_score(y_test, y_pred)\n",
    "print(\"recall: \", recall)\n",
    "\n",
    "#F-measure\n",
    "f1 = f1_score(y_test, y_pred)\n",
    "print(\"F-measure: \", f1)"
   ]
  },
  {
   "cell_type": "code",
   "execution_count": 27,
   "id": "16991e3f",
   "metadata": {
    "ExecuteTime": {
     "end_time": "2023-05-18T16:57:15.636758Z",
     "start_time": "2023-05-18T16:57:13.369027Z"
    },
    "scrolled": true
   },
   "outputs": [
    {
     "data": {
      "image/png": "[encoded data removed]",
      "text/plain": [
       "<Figure size 576x576 with 2 Axes>"
      ]
     },
     "metadata": {
      "needs_background": "light"
     },
     "output_type": "display_data"
    }
   ],
   "source": [
    "#draw confusion matrix\n",
    "fig, ax = plt.subplots(figsize=(8, 8))\n",
    "im = ax.imshow(cm, cmap='Blues')\n",
    "\n",
    "#add labels\n",
    "classes = np.unique(y_test)\n",
    "tick_marks = np.arange(len(classes))\n",
    "ax.set_xticks(tick_marks)\n",
    "ax.set_xticklabels(classes, rotation=45)\n",
    "ax.set_yticks(tick_marks)\n",
    "ax.set_yticklabels(classes)\n",
    "ax.set_ylabel('True label')\n",
    "ax.set_xlabel('Predicted label')\n",
    "plt.xticks(rotation=0)\n",
    "plt.title(\"Confusion Matrix of Random Forest\")\n",
    "\n",
    "#add numbers\n",
    "thresh = cm.max() / 2.\n",
    "for i in range(cm.shape[0]):\n",
    "    for j in range(cm.shape[1]):\n",
    "        ax.text(j, i, format(cm[i, j], 'd'),\n",
    "                ha=\"center\", va=\"center\",\n",
    "                color=\"white\" if cm[i, j] > thresh else \"black\")\n",
    "\n",
    "#add color bar\n",
    "plt.colorbar(im)\n",
    "plt.grid(False)\n",
    "plt.savefig('confusion_matrix_rf.png',dpi=800)\n",
    "plt.show()"
   ]
  },
  {
   "cell_type": "code",
   "execution_count": 28,
   "id": "35766cb5",
   "metadata": {
    "ExecuteTime": {
     "end_time": "2023-05-18T16:57:19.896247Z",
     "start_time": "2023-05-18T16:57:15.639750Z"
    },
    "scrolled": true
   },
   "outputs": [
    {
     "data": {
      "image/png": "[encoded data removed]",
      "text/plain": [
       "<Figure size 576x576 with 1 Axes>"
      ]
     },
     "metadata": {
      "needs_background": "light"
     },
     "output_type": "display_data"
    },
    {
     "name": "stdout",
     "output_type": "stream",
     "text": [
      "AUC: 0.9997415705623045\n"
     ]
    }
   ],
   "source": [
    "# Get prediction probabilities\n",
    "y_score = rf_model.predict_proba(X_test)[:, 1]\n",
    "\n",
    "# Calculate fpr, tpr, and thresholds\n",
    "fpr, tpr, thresholds = roc_curve(y_test, y_score)\n",
    "\n",
    "# Calculate AUC\n",
    "roc_auc = auc(fpr, tpr)\n",
    "\n",
    "# Plot ROC curve\n",
    "plt.figure(figsize=(8, 8))\n",
    "plt.plot(fpr, tpr, color='darkorange', lw=2, label='ROC curve (area = %0.2f)' % roc_auc)\n",
    "plt.plot([0, 1], [0, 1], color='navy', lw=2, linestyle='--')\n",
    "plt.fill_between(fpr, tpr, color='gray', alpha=0.2)\n",
    "plt.xlim([0.0, 1.0])\n",
    "plt.ylim([0.0, 1.05])\n",
    "plt.xlabel('False Positive Rate')\n",
    "plt.ylabel('True Positive Rate')\n",
    "plt.title('ROC of Random Forest')\n",
    "plt.legend(loc=\"lower right\")\n",
    "\n",
    "# Add axes\n",
    "plt.axhline(0, color='black', lw=1)\n",
    "plt.axvline(0, color='black', lw=1)\n",
    "\n",
    "# Set background and contours\n",
    "plt.gca().set_facecolor('white')\n",
    "plt.gca().spines['bottom'].set_color('black')\n",
    "plt.gca().spines['left'].set_color('black')\n",
    "plt.gca().spines['top'].set_visible(False)\n",
    "plt.gca().spines['right'].set_visible(False)\n",
    "\n",
    "# Save the plot\n",
    "plt.savefig('ROC_rf.png', dpi=800)\n",
    "\n",
    "# Show the plot\n",
    "plt.show()\n",
    "\n",
    "# Output AUC\n",
    "print(\"AUC:\", roc_auc)"
   ]
  },
  {
   "cell_type": "code",
   "execution_count": 29,
   "id": "9cb32d5a",
   "metadata": {
    "ExecuteTime": {
     "end_time": "2023-05-18T16:57:19.927641Z",
     "start_time": "2023-05-18T16:57:19.897290Z"
    }
   },
   "outputs": [
    {
     "name": "stdout",
     "output_type": "stream",
     "text": [
      "              precision    recall  f1-score   support\n",
      "\n",
      "           0       0.99      0.99      0.99      4658\n",
      "           1       0.99      0.99      0.99      4277\n",
      "\n",
      "    accuracy                           0.99      8935\n",
      "   macro avg       0.99      0.99      0.99      8935\n",
      "weighted avg       0.99      0.99      0.99      8935\n",
      "\n"
     ]
    }
   ],
   "source": [
    "#out report of random forest\n",
    "print(classification_report(y_test, y_pred))"
   ]
  }
 ],
 "metadata": {
  "kernelspec": {
   "display_name": "Python 3 (ipykernel)",
   "language": "python",
   "name": "python3"
  },
  "language_info": {
   "codemirror_mode": {
    "name": "ipython",
    "version": 3
   },
   "file_extension": ".py",
   "mimetype": "text/x-python",
   "name": "python",
   "nbconvert_exporter": "python",
   "pygments_lexer": "ipython3",
   "version": "3.9.12"
  }
 },
 "nbformat": 4,
 "nbformat_minor": 5
}
